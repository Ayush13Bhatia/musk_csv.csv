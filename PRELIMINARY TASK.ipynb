{
 "cells": [
  {
   "cell_type": "code",
   "execution_count": 1,
   "metadata": {},
   "outputs": [],
   "source": [
    "# Importing libraries\n",
    "\n",
    "import numpy as np\n",
    "import pandas as pd\n",
    "import matplotlib.pyplot as plt\n",
    "import seaborn as sns\n",
    "import tensorflow as tf\n",
    "from tensorflow.keras.backend import set_session"
   ]
  },
  {
   "cell_type": "code",
   "execution_count": 2,
   "metadata": {},
   "outputs": [],
   "source": [
    "# reading the dataset using pandas's library\n",
    "\n",
    "df = pd.read_csv(\"musk_csv.csv\")"
   ]
  },
  {
   "cell_type": "code",
   "execution_count": 3,
   "metadata": {},
   "outputs": [
    {
     "data": {
      "text/html": [
       "<div>\n",
       "<style scoped>\n",
       "    .dataframe tbody tr th:only-of-type {\n",
       "        vertical-align: middle;\n",
       "    }\n",
       "\n",
       "    .dataframe tbody tr th {\n",
       "        vertical-align: top;\n",
       "    }\n",
       "\n",
       "    .dataframe thead th {\n",
       "        text-align: right;\n",
       "    }\n",
       "</style>\n",
       "<table border=\"1\" class=\"dataframe\">\n",
       "  <thead>\n",
       "    <tr style=\"text-align: right;\">\n",
       "      <th></th>\n",
       "      <th>ID</th>\n",
       "      <th>molecule_name</th>\n",
       "      <th>conformation_name</th>\n",
       "      <th>f1</th>\n",
       "      <th>f2</th>\n",
       "      <th>f3</th>\n",
       "      <th>f4</th>\n",
       "      <th>f5</th>\n",
       "      <th>f6</th>\n",
       "      <th>f7</th>\n",
       "      <th>...</th>\n",
       "      <th>f158</th>\n",
       "      <th>f159</th>\n",
       "      <th>f160</th>\n",
       "      <th>f161</th>\n",
       "      <th>f162</th>\n",
       "      <th>f163</th>\n",
       "      <th>f164</th>\n",
       "      <th>f165</th>\n",
       "      <th>f166</th>\n",
       "      <th>class</th>\n",
       "    </tr>\n",
       "  </thead>\n",
       "  <tbody>\n",
       "    <tr>\n",
       "      <th>0</th>\n",
       "      <td>1</td>\n",
       "      <td>MUSK-211</td>\n",
       "      <td>211_1+1</td>\n",
       "      <td>46</td>\n",
       "      <td>-108</td>\n",
       "      <td>-60</td>\n",
       "      <td>-69</td>\n",
       "      <td>-117</td>\n",
       "      <td>49</td>\n",
       "      <td>38</td>\n",
       "      <td>...</td>\n",
       "      <td>-308</td>\n",
       "      <td>52</td>\n",
       "      <td>-7</td>\n",
       "      <td>39</td>\n",
       "      <td>126</td>\n",
       "      <td>156</td>\n",
       "      <td>-50</td>\n",
       "      <td>-112</td>\n",
       "      <td>96</td>\n",
       "      <td>1</td>\n",
       "    </tr>\n",
       "    <tr>\n",
       "      <th>1</th>\n",
       "      <td>2</td>\n",
       "      <td>MUSK-211</td>\n",
       "      <td>211_1+10</td>\n",
       "      <td>41</td>\n",
       "      <td>-188</td>\n",
       "      <td>-145</td>\n",
       "      <td>22</td>\n",
       "      <td>-117</td>\n",
       "      <td>-6</td>\n",
       "      <td>57</td>\n",
       "      <td>...</td>\n",
       "      <td>-59</td>\n",
       "      <td>-2</td>\n",
       "      <td>52</td>\n",
       "      <td>103</td>\n",
       "      <td>136</td>\n",
       "      <td>169</td>\n",
       "      <td>-61</td>\n",
       "      <td>-136</td>\n",
       "      <td>79</td>\n",
       "      <td>1</td>\n",
       "    </tr>\n",
       "    <tr>\n",
       "      <th>2</th>\n",
       "      <td>3</td>\n",
       "      <td>MUSK-211</td>\n",
       "      <td>211_1+11</td>\n",
       "      <td>46</td>\n",
       "      <td>-194</td>\n",
       "      <td>-145</td>\n",
       "      <td>28</td>\n",
       "      <td>-117</td>\n",
       "      <td>73</td>\n",
       "      <td>57</td>\n",
       "      <td>...</td>\n",
       "      <td>-134</td>\n",
       "      <td>-154</td>\n",
       "      <td>57</td>\n",
       "      <td>143</td>\n",
       "      <td>142</td>\n",
       "      <td>165</td>\n",
       "      <td>-67</td>\n",
       "      <td>-145</td>\n",
       "      <td>39</td>\n",
       "      <td>1</td>\n",
       "    </tr>\n",
       "    <tr>\n",
       "      <th>3</th>\n",
       "      <td>4</td>\n",
       "      <td>MUSK-211</td>\n",
       "      <td>211_1+12</td>\n",
       "      <td>41</td>\n",
       "      <td>-188</td>\n",
       "      <td>-145</td>\n",
       "      <td>22</td>\n",
       "      <td>-117</td>\n",
       "      <td>-7</td>\n",
       "      <td>57</td>\n",
       "      <td>...</td>\n",
       "      <td>-60</td>\n",
       "      <td>-4</td>\n",
       "      <td>52</td>\n",
       "      <td>104</td>\n",
       "      <td>136</td>\n",
       "      <td>168</td>\n",
       "      <td>-60</td>\n",
       "      <td>-135</td>\n",
       "      <td>80</td>\n",
       "      <td>1</td>\n",
       "    </tr>\n",
       "    <tr>\n",
       "      <th>4</th>\n",
       "      <td>5</td>\n",
       "      <td>MUSK-211</td>\n",
       "      <td>211_1+13</td>\n",
       "      <td>41</td>\n",
       "      <td>-188</td>\n",
       "      <td>-145</td>\n",
       "      <td>22</td>\n",
       "      <td>-117</td>\n",
       "      <td>-7</td>\n",
       "      <td>57</td>\n",
       "      <td>...</td>\n",
       "      <td>-60</td>\n",
       "      <td>-4</td>\n",
       "      <td>52</td>\n",
       "      <td>104</td>\n",
       "      <td>137</td>\n",
       "      <td>168</td>\n",
       "      <td>-60</td>\n",
       "      <td>-135</td>\n",
       "      <td>80</td>\n",
       "      <td>1</td>\n",
       "    </tr>\n",
       "  </tbody>\n",
       "</table>\n",
       "<p>5 rows × 170 columns</p>\n",
       "</div>"
      ],
      "text/plain": [
       "   ID molecule_name conformation_name  f1   f2   f3  f4   f5  f6  f7  ...    \\\n",
       "0   1      MUSK-211           211_1+1  46 -108  -60 -69 -117  49  38  ...     \n",
       "1   2      MUSK-211          211_1+10  41 -188 -145  22 -117  -6  57  ...     \n",
       "2   3      MUSK-211          211_1+11  46 -194 -145  28 -117  73  57  ...     \n",
       "3   4      MUSK-211          211_1+12  41 -188 -145  22 -117  -7  57  ...     \n",
       "4   5      MUSK-211          211_1+13  41 -188 -145  22 -117  -7  57  ...     \n",
       "\n",
       "   f158  f159  f160  f161  f162  f163  f164  f165  f166  class  \n",
       "0  -308    52    -7    39   126   156   -50  -112    96      1  \n",
       "1   -59    -2    52   103   136   169   -61  -136    79      1  \n",
       "2  -134  -154    57   143   142   165   -67  -145    39      1  \n",
       "3   -60    -4    52   104   136   168   -60  -135    80      1  \n",
       "4   -60    -4    52   104   137   168   -60  -135    80      1  \n",
       "\n",
       "[5 rows x 170 columns]"
      ]
     },
     "execution_count": 3,
     "metadata": {},
     "output_type": "execute_result"
    }
   ],
   "source": [
    "# display the head dataset\n",
    "\n",
    "df.head()"
   ]
  },
  {
   "cell_type": "code",
   "execution_count": 4,
   "metadata": {},
   "outputs": [
    {
     "name": "stdout",
     "output_type": "stream",
     "text": [
      "<class 'pandas.core.frame.DataFrame'>\n",
      "RangeIndex: 6598 entries, 0 to 6597\n",
      "Columns: 170 entries, ID to class\n",
      "dtypes: int64(168), object(2)\n",
      "memory usage: 8.6+ MB\n"
     ]
    },
    {
     "data": {
      "text/plain": [
       "(6598, 170)"
      ]
     },
     "execution_count": 4,
     "metadata": {},
     "output_type": "execute_result"
    }
   ],
   "source": [
    "# information and shape of dataset\n",
    "\n",
    "df.info()\n",
    "df.shape"
   ]
  },
  {
   "cell_type": "code",
   "execution_count": 5,
   "metadata": {},
   "outputs": [],
   "source": [
    "# Splitting the dataset into independent and dependent variables\n",
    "\n",
    "X = df.iloc[:, 3:140].values\n",
    "y = df.iloc[:, 169].values"
   ]
  },
  {
   "cell_type": "code",
   "execution_count": 6,
   "metadata": {},
   "outputs": [],
   "source": [
    "# splitting the dataset into training and testing set\n",
    "\n",
    "from  sklearn.model_selection import train_test_split\n",
    "X_train, X_test, y_train, y_test = train_test_split(X, y, test_size = 0.2, random_state = 0)"
   ]
  },
  {
   "cell_type": "code",
   "execution_count": 7,
   "metadata": {},
   "outputs": [],
   "source": [
    "# Using tensorflow on dataset\n",
    "\n",
    "from tensorflow.keras.layers import Dense\n",
    "from tensorflow.keras.models import Sequential"
   ]
  },
  {
   "cell_type": "code",
   "execution_count": 8,
   "metadata": {},
   "outputs": [
    {
     "name": "stdout",
     "output_type": "stream",
     "text": [
      "WARNING:tensorflow:From D:\\anaconda\\anaconda 3\\lib\\site-packages\\tensorflow\\python\\ops\\resource_variable_ops.py:435: colocate_with (from tensorflow.python.framework.ops) is deprecated and will be removed in a future version.\n",
      "Instructions for updating:\n",
      "Colocations handled automatically by placer.\n"
     ]
    }
   ],
   "source": [
    "# CNN layers for making a neural network model\n",
    "model = Sequential()\n",
    "    \n",
    "model.add(Dense(8, input_dim = 137, kernel_initializer = 'normal', activation = 'relu', trainable = False))\n",
    "    \n",
    "model.add(Dense(1, kernel_initializer = 'normal', activation = 'sigmoid'))\n",
    "\n",
    "    \n",
    "model.compile(loss = 'binary_crossentropy',optimizer = 'adam', metrics = ['accuracy'] )\n",
    "    \n",
    "    "
   ]
  },
  {
   "cell_type": "code",
   "execution_count": 9,
   "metadata": {
    "scrolled": true
   },
   "outputs": [
    {
     "name": "stdout",
     "output_type": "stream",
     "text": [
      "_________________________________________________________________\n",
      "Layer (type)                 Output Shape              Param #   \n",
      "=================================================================\n",
      "dense (Dense)                (None, 8)                 1104      \n",
      "_________________________________________________________________\n",
      "dense_1 (Dense)              (None, 1)                 9         \n",
      "=================================================================\n",
      "Total params: 1,113\n",
      "Trainable params: 9\n",
      "Non-trainable params: 1,104\n",
      "_________________________________________________________________\n"
     ]
    }
   ],
   "source": [
    "model.summary()"
   ]
  },
  {
   "cell_type": "code",
   "execution_count": 10,
   "metadata": {
    "scrolled": false
   },
   "outputs": [
    {
     "name": "stdout",
     "output_type": "stream",
     "text": [
      "Train on 5278 samples, validate on 1320 samples\n",
      "WARNING:tensorflow:From D:\\anaconda\\anaconda 3\\lib\\site-packages\\tensorflow\\python\\ops\\math_ops.py:3066: to_int32 (from tensorflow.python.ops.math_ops) is deprecated and will be removed in a future version.\n",
      "Instructions for updating:\n",
      "Use tf.cast instead.\n",
      "Epoch 1/25\n",
      " - 1s - loss: 1.0248 - acc: 0.7105 - val_loss: 0.5917 - val_acc: 0.7992\n",
      "Epoch 2/25\n",
      " - 0s - loss: 0.4991 - acc: 0.8134 - val_loss: 0.3923 - val_acc: 0.8455\n",
      "Epoch 3/25\n",
      " - 0s - loss: 0.3831 - acc: 0.8492 - val_loss: 0.3574 - val_acc: 0.8659\n",
      "Epoch 4/25\n",
      " - 0s - loss: 0.3659 - acc: 0.8600 - val_loss: 0.3523 - val_acc: 0.8705\n",
      "Epoch 5/25\n",
      " - 0s - loss: 0.3619 - acc: 0.8679 - val_loss: 0.3510 - val_acc: 0.8712\n",
      "Epoch 6/25\n",
      " - 0s - loss: 0.3615 - acc: 0.8642 - val_loss: 0.3579 - val_acc: 0.8697\n",
      "Epoch 7/25\n",
      " - 0s - loss: 0.3609 - acc: 0.8640 - val_loss: 0.3522 - val_acc: 0.8720\n",
      "Epoch 8/25\n",
      " - 0s - loss: 0.3614 - acc: 0.8676 - val_loss: 0.3494 - val_acc: 0.8758\n",
      "Epoch 9/25\n",
      " - 0s - loss: 0.3587 - acc: 0.8678 - val_loss: 0.3488 - val_acc: 0.8742\n",
      "Epoch 10/25\n",
      " - 0s - loss: 0.3583 - acc: 0.8659 - val_loss: 0.3514 - val_acc: 0.8848\n",
      "Epoch 11/25\n",
      " - 0s - loss: 0.3567 - acc: 0.8714 - val_loss: 0.3553 - val_acc: 0.8727\n",
      "Epoch 12/25\n",
      " - 0s - loss: 0.3591 - acc: 0.8664 - val_loss: 0.3470 - val_acc: 0.8735\n",
      "Epoch 13/25\n",
      " - 0s - loss: 0.3575 - acc: 0.8691 - val_loss: 0.3470 - val_acc: 0.8750\n",
      "Epoch 14/25\n",
      " - 0s - loss: 0.3568 - acc: 0.8708 - val_loss: 0.3490 - val_acc: 0.8720\n",
      "Epoch 15/25\n",
      " - 0s - loss: 0.3555 - acc: 0.8698 - val_loss: 0.3460 - val_acc: 0.8841\n",
      "Epoch 16/25\n",
      " - 0s - loss: 0.3542 - acc: 0.8731 - val_loss: 0.3439 - val_acc: 0.8818\n",
      "Epoch 17/25\n",
      " - 0s - loss: 0.3539 - acc: 0.8712 - val_loss: 0.3463 - val_acc: 0.8826\n",
      "Epoch 18/25\n",
      " - 0s - loss: 0.3553 - acc: 0.8710 - val_loss: 0.3497 - val_acc: 0.8697\n",
      "Epoch 19/25\n",
      " - 0s - loss: 0.3530 - acc: 0.8731 - val_loss: 0.3424 - val_acc: 0.8765\n",
      "Epoch 20/25\n",
      " - 0s - loss: 0.3531 - acc: 0.8695 - val_loss: 0.3442 - val_acc: 0.8765\n",
      "Epoch 21/25\n",
      " - 0s - loss: 0.3528 - acc: 0.8712 - val_loss: 0.3453 - val_acc: 0.8833\n",
      "Epoch 22/25\n",
      " - 0s - loss: 0.3524 - acc: 0.8715 - val_loss: 0.3540 - val_acc: 0.8697\n",
      "Epoch 23/25\n",
      " - 0s - loss: 0.3525 - acc: 0.8708 - val_loss: 0.3428 - val_acc: 0.8735\n",
      "Epoch 24/25\n",
      " - 0s - loss: 0.3509 - acc: 0.8734 - val_loss: 0.3503 - val_acc: 0.8750\n",
      "Epoch 25/25\n",
      " - 0s - loss: 0.3534 - acc: 0.8710 - val_loss: 0.3469 - val_acc: 0.8780\n"
     ]
    }
   ],
   "source": [
    "# training the the model for predicting the result\n",
    "\n",
    "epochs = 25\n",
    "history = model.fit(X_train, y_train,\n",
    "                   batch_size = 40,\n",
    "                   epochs = epochs,\n",
    "                   verbose = 2,\n",
    "                   validation_data=(X_test, y_test))"
   ]
  },
  {
   "cell_type": "code",
   "execution_count": 11,
   "metadata": {},
   "outputs": [
    {
     "data": {
      "text/plain": [
       "{'loss': [1.0247770608397495,\n",
       "  0.4991127039817934,\n",
       "  0.38313416313971477,\n",
       "  0.3658763996214973,\n",
       "  0.3619155479046647,\n",
       "  0.36151551881853766,\n",
       "  0.3608899151072804,\n",
       "  0.3613507991805588,\n",
       "  0.35870094317836987,\n",
       "  0.3582583994023409,\n",
       "  0.35669084456256955,\n",
       "  0.3591384809660433,\n",
       "  0.357518711599178,\n",
       "  0.3567962731295076,\n",
       "  0.3555071840868072,\n",
       "  0.354232809802446,\n",
       "  0.35393243648645417,\n",
       "  0.35534608574155696,\n",
       "  0.35302922380336443,\n",
       "  0.3530631342951481,\n",
       "  0.3527716509362611,\n",
       "  0.3523985052953484,\n",
       "  0.352479761976688,\n",
       "  0.3508559996406885,\n",
       "  0.35336575701454453],\n",
       " 'acc': [0.7104964,\n",
       "  0.8133763,\n",
       "  0.8491853,\n",
       "  0.8599848,\n",
       "  0.8679424,\n",
       "  0.8641531,\n",
       "  0.8639636,\n",
       "  0.8675635,\n",
       "  0.8677529,\n",
       "  0.86585826,\n",
       "  0.8713528,\n",
       "  0.8664267,\n",
       "  0.8690792,\n",
       "  0.8707844,\n",
       "  0.86983705,\n",
       "  0.87305796,\n",
       "  0.8711633,\n",
       "  0.8709738,\n",
       "  0.87305796,\n",
       "  0.86945814,\n",
       "  0.8711633,\n",
       "  0.8715423,\n",
       "  0.8707844,\n",
       "  0.8734369,\n",
       "  0.8709738],\n",
       " 'val_loss': [0.5916749293153937,\n",
       "  0.3922534921404087,\n",
       "  0.35736545107581397,\n",
       "  0.35225553359046125,\n",
       "  0.35099089416590606,\n",
       "  0.35786208149158594,\n",
       "  0.3521580709652467,\n",
       "  0.34937687624584546,\n",
       "  0.3487679402936589,\n",
       "  0.351414088046912,\n",
       "  0.35533501794843964,\n",
       "  0.34696318796186737,\n",
       "  0.3469512096860192,\n",
       "  0.34904359913233557,\n",
       "  0.3459597076430465,\n",
       "  0.34388776620229083,\n",
       "  0.34632648617932293,\n",
       "  0.3497114723378962,\n",
       "  0.34236633055137866,\n",
       "  0.3442279186212655,\n",
       "  0.34533939668626495,\n",
       "  0.35399242332487396,\n",
       "  0.3427887540875059,\n",
       "  0.3502938756437013,\n",
       "  0.3469479930671779],\n",
       " 'val_acc': [0.79924244,\n",
       "  0.8454546,\n",
       "  0.8659091,\n",
       "  0.87045455,\n",
       "  0.8712121,\n",
       "  0.869697,\n",
       "  0.8719697,\n",
       "  0.8757576,\n",
       "  0.8742424,\n",
       "  0.8848485,\n",
       "  0.8727273,\n",
       "  0.87348485,\n",
       "  0.875,\n",
       "  0.8719697,\n",
       "  0.8840909,\n",
       "  0.8818182,\n",
       "  0.88257575,\n",
       "  0.869697,\n",
       "  0.87651515,\n",
       "  0.87651515,\n",
       "  0.8833333,\n",
       "  0.869697,\n",
       "  0.87348485,\n",
       "  0.875,\n",
       "  0.8780303]}"
      ]
     },
     "execution_count": 11,
     "metadata": {},
     "output_type": "execute_result"
    }
   ],
   "source": [
    "# Seperate the acc, val_loss and val_acc\n",
    "\n",
    "history.history"
   ]
  },
  {
   "cell_type": "code",
   "execution_count": 12,
   "metadata": {},
   "outputs": [
    {
     "name": "stdout",
     "output_type": "stream",
     "text": [
      "Test loss:  0.34694799157706174\n",
      "Test accuracy:  0.8780303\n"
     ]
    }
   ],
   "source": [
    "# loss and test accuracy\n",
    "\n",
    "score = model.evaluate(X_test, y_test, verbose = 0)\n",
    "print(\"Test loss: \", score[0])\n",
    "print(\"Test accuracy: \", score[1])"
   ]
  },
  {
   "cell_type": "code",
   "execution_count": 13,
   "metadata": {},
   "outputs": [
    {
     "name": "stdout",
     "output_type": "stream",
     "text": [
      "Train loss:  0.3564203333994709\n",
      "Train accuracy:  0.8668056\n"
     ]
    }
   ],
   "source": [
    "#loss and train accuracy\n",
    "scores = model.evaluate(X_train, y_train, verbose = 0)\n",
    "print(\"Train loss: \", scores[0])\n",
    "print(\"Train accuracy: \", scores[1])"
   ]
  },
  {
   "cell_type": "code",
   "execution_count": 14,
   "metadata": {},
   "outputs": [
    {
     "data": {
      "image/png": "[encoded data removed]",
      "text/plain": [
       "<Figure size 432x288 with 1 Axes>"
      ]
     },
     "metadata": {
      "needs_background": "light"
     },
     "output_type": "display_data"
    }
   ],
   "source": [
    "# plotting the train and vall loss\n",
    "\n",
    "train_loss = history.history['loss']\n",
    "val_loss = history.history['val_loss']\n",
    "train_acc = history.history['acc']\n",
    "val_acc = history.history['val_acc']\n",
    "xc = range(epochs)\n",
    "\n",
    "plt.plot(xc, train_loss)\n",
    "plt.plot(xc, val_loss)\n",
    "plt.xlabel('num of epochs')\n",
    "plt.ylabel('loss')\n",
    "plt.title(\"train_loss vs val_loss\")\n",
    "plt.show()\n"
   ]
  },
  {
   "cell_type": "code",
   "execution_count": 15,
   "metadata": {},
   "outputs": [
    {
     "data": {
      "image/png": "[encoded data removed]",
      "text/plain": [
       "<Figure size 432x288 with 1 Axes>"
      ]
     },
     "metadata": {
      "needs_background": "light"
     },
     "output_type": "display_data"
    }
   ],
   "source": [
    "# plotting train and validation accuracy\n",
    "\n",
    "plt.plot(xc, train_acc)\n",
    "plt.plot(xc, val_acc)\n",
    "plt.xlabel('num of epochs')\n",
    "plt.ylabel('Accuracy')\n",
    "plt.title(\"train_acc vs val_acc\")\n",
    "plt.show()"
   ]
  },
  {
   "cell_type": "code",
   "execution_count": 16,
   "metadata": {},
   "outputs": [
    {
     "name": "stdout",
     "output_type": "stream",
     "text": [
      "Test Score:  0.34694799157706174\n",
      "Test Accuracy:  0.8780303\n",
      "[[0]\n",
      " [0]\n",
      " [0]\n",
      " [0]]\n",
      "[1 0 0 0]\n"
     ]
    }
   ],
   "source": [
    "# predicting the model accuracy\n",
    "\n",
    "score = model.evaluate(X_test, y_test, verbose = 0)\n",
    "print('Test Score: ', score[0])\n",
    "print('Test Accuracy: ', score[1])\n",
    "print(model.predict_classes(X_test[1:5]))\n",
    "print(y_test[1:5])"
   ]
  },
  {
   "cell_type": "code",
   "execution_count": 17,
   "metadata": {},
   "outputs": [
    {
     "data": {
      "text/plain": [
       "array([[1117,    3],\n",
       "       [ 158,   42]], dtype=int64)"
      ]
     },
     "execution_count": 17,
     "metadata": {},
     "output_type": "execute_result"
    }
   ],
   "source": [
    "# confusion matrix\n",
    "\n",
    "from sklearn.metrics import confusion_matrix\n",
    "confusion_matrix(y_test, model.predict_classes(X_test))"
   ]
  },
  {
   "cell_type": "code",
   "execution_count": 18,
   "metadata": {},
   "outputs": [
    {
     "name": "stdout",
     "output_type": "stream",
     "text": [
      "              precision    recall  f1-score   support\n",
      "\n",
      "           0       0.88      1.00      0.93      1120\n",
      "           1       0.93      0.21      0.34       200\n",
      "\n",
      "   micro avg       0.88      0.88      0.88      1320\n",
      "   macro avg       0.90      0.60      0.64      1320\n",
      "weighted avg       0.88      0.88      0.84      1320\n",
      "\n"
     ]
    }
   ],
   "source": [
    "# Predicting precision, recall and f1-score\n",
    "from sklearn.metrics import classification_report\n",
    "print(classification_report(y_test, model.predict_classes(X_test)))"
   ]
  },
  {
   "cell_type": "code",
   "execution_count": null,
   "metadata": {},
   "outputs": [],
   "source": []
  }
 ],
 "metadata": {
  "kernelspec": {
   "display_name": "Python 3",
   "language": "python",
   "name": "python3"
  },
  "language_info": {
   "codemirror_mode": {
    "name": "ipython",
    "version": 3
   },
   "file_extension": ".py",
   "mimetype": "text/x-python",
   "name": "python",
   "nbconvert_exporter": "python",
   "pygments_lexer": "ipython3",
   "version": "3.7.1"
  }
 },
 "nbformat": 4,
 "nbformat_minor": 2
}
